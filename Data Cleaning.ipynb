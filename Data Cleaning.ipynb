{
 "cells": [
  {
   "cell_type": "code",
   "execution_count": 3,
   "id": "fcbe5a63-c0e2-4aa7-acb1-366b450b98df",
   "metadata": {},
   "outputs": [],
   "source": [
    "import pandas as pd \n",
    "\n",
    "#load data \n",
    "df=pd.read_csv(\"top_youtube.csv\")"
   ]
  },
  {
   "cell_type": "code",
   "execution_count": 4,
   "id": "8ec3cdab-1ca1-4966-91d6-4cb095aa0ecf",
   "metadata": {},
   "outputs": [
    {
     "data": {
      "text/html": [
       "<div>\n",
       "<style scoped>\n",
       "    .dataframe tbody tr th:only-of-type {\n",
       "        vertical-align: middle;\n",
       "    }\n",
       "\n",
       "    .dataframe tbody tr th {\n",
       "        vertical-align: top;\n",
       "    }\n",
       "\n",
       "    .dataframe thead th {\n",
       "        text-align: right;\n",
       "    }\n",
       "</style>\n",
       "<table border=\"1\" class=\"dataframe\">\n",
       "  <thead>\n",
       "    <tr style=\"text-align: right;\">\n",
       "      <th></th>\n",
       "      <th>Rank</th>\n",
       "      <th>Channel Name</th>\n",
       "      <th>Subscribers</th>\n",
       "      <th>Category</th>\n",
       "      <th>Views</th>\n",
       "    </tr>\n",
       "  </thead>\n",
       "  <tbody>\n",
       "    <tr>\n",
       "      <th>0</th>\n",
       "      <td>1</td>\n",
       "      <td>MrBeast\\n71%\\n@mrbeast</td>\n",
       "      <td>409M\\n0.7%</td>\n",
       "      <td>Entertainment</td>\n",
       "      <td>109.84M\\n14.8%</td>\n",
       "    </tr>\n",
       "    <tr>\n",
       "      <th>1</th>\n",
       "      <td>2</td>\n",
       "      <td>T-Series\\n32%\\n@tseries</td>\n",
       "      <td>297M\\n0.3%</td>\n",
       "      <td>Music</td>\n",
       "      <td>731.63K\\n38.7%</td>\n",
       "    </tr>\n",
       "    <tr>\n",
       "      <th>2</th>\n",
       "      <td>3</td>\n",
       "      <td>Cocomelon - Nursery Rhymes\\n70%\\n@cocomelon</td>\n",
       "      <td>194M\\n-</td>\n",
       "      <td>Education\\nEntertainment</td>\n",
       "      <td>3.63M\\n14.1%</td>\n",
       "    </tr>\n",
       "    <tr>\n",
       "      <th>3</th>\n",
       "      <td>4\\n-</td>\n",
       "      <td>SET India\\n@setindia</td>\n",
       "      <td>184M\\n-</td>\n",
       "      <td>Entertainment</td>\n",
       "      <td>18.28K\\n19.8%</td>\n",
       "    </tr>\n",
       "    <tr>\n",
       "      <th>4</th>\n",
       "      <td>5\\n-</td>\n",
       "      <td>Vlad and Niki\\n33%\\n@vladandniki</td>\n",
       "      <td>142M\\n0.7%</td>\n",
       "      <td>Entertainment</td>\n",
       "      <td>1.85M\\n7.5%</td>\n",
       "    </tr>\n",
       "  </tbody>\n",
       "</table>\n",
       "</div>"
      ],
      "text/plain": [
       "   Rank                                 Channel Name Subscribers  \\\n",
       "0     1                       MrBeast\\n71%\\n@mrbeast  409M\\n0.7%   \n",
       "1     2                      T-Series\\n32%\\n@tseries  297M\\n0.3%   \n",
       "2     3  Cocomelon - Nursery Rhymes\\n70%\\n@cocomelon     194M\\n-   \n",
       "3  4\\n-                         SET India\\n@setindia     184M\\n-   \n",
       "4  5\\n-             Vlad and Niki\\n33%\\n@vladandniki  142M\\n0.7%   \n",
       "\n",
       "                   Category           Views  \n",
       "0             Entertainment  109.84M\\n14.8%  \n",
       "1                     Music  731.63K\\n38.7%  \n",
       "2  Education\\nEntertainment    3.63M\\n14.1%  \n",
       "3             Entertainment   18.28K\\n19.8%  \n",
       "4             Entertainment     1.85M\\n7.5%  "
      ]
     },
     "execution_count": 4,
     "metadata": {},
     "output_type": "execute_result"
    }
   ],
   "source": [
    "df.head()"
   ]
  },
  {
   "cell_type": "code",
   "execution_count": 5,
   "id": "60bc156e-3244-4865-a339-5b675248fa00",
   "metadata": {},
   "outputs": [
    {
     "data": {
      "text/plain": [
       "(100, 5)"
      ]
     },
     "execution_count": 5,
     "metadata": {},
     "output_type": "execute_result"
    }
   ],
   "source": [
    "df.shape"
   ]
  },
  {
   "cell_type": "code",
   "execution_count": 6,
   "id": "67191a2b-546b-4c75-abf6-dacb58dd3c78",
   "metadata": {},
   "outputs": [
    {
     "name": "stdout",
     "output_type": "stream",
     "text": [
      "<class 'pandas.core.frame.DataFrame'>\n",
      "RangeIndex: 100 entries, 0 to 99\n",
      "Data columns (total 5 columns):\n",
      " #   Column        Non-Null Count  Dtype \n",
      "---  ------        --------------  ----- \n",
      " 0   Rank          100 non-null    object\n",
      " 1   Channel Name  100 non-null    object\n",
      " 2   Subscribers   100 non-null    object\n",
      " 3   Category      100 non-null    object\n",
      " 4   Views         100 non-null    object\n",
      "dtypes: object(5)\n",
      "memory usage: 4.0+ KB\n"
     ]
    }
   ],
   "source": [
    "df.info()"
   ]
  },
  {
   "cell_type": "code",
   "execution_count": 7,
   "id": "a95f6e53-ee75-42b9-8a77-dce4770bd35f",
   "metadata": {},
   "outputs": [
    {
     "name": "stderr",
     "output_type": "stream",
     "text": [
      "C:\\Users\\Admin\\AppData\\Local\\Temp\\ipykernel_15064\\2343252404.py:1: FutureWarning: DataFrame.applymap has been deprecated. Use DataFrame.map instead.\n",
      "  df = df.applymap(lambda x: x.split('\\n')[0] if isinstance(x, str) else x)\n"
     ]
    }
   ],
   "source": [
    "df = df.applymap(lambda x: x.split('\\n')[0] if isinstance(x, str) else x)"
   ]
  },
  {
   "cell_type": "code",
   "execution_count": 8,
   "id": "3c27efc0-e9cf-4078-93fc-68a120f6ba85",
   "metadata": {},
   "outputs": [
    {
     "data": {
      "text/html": [
       "<div>\n",
       "<style scoped>\n",
       "    .dataframe tbody tr th:only-of-type {\n",
       "        vertical-align: middle;\n",
       "    }\n",
       "\n",
       "    .dataframe tbody tr th {\n",
       "        vertical-align: top;\n",
       "    }\n",
       "\n",
       "    .dataframe thead th {\n",
       "        text-align: right;\n",
       "    }\n",
       "</style>\n",
       "<table border=\"1\" class=\"dataframe\">\n",
       "  <thead>\n",
       "    <tr style=\"text-align: right;\">\n",
       "      <th></th>\n",
       "      <th>Rank</th>\n",
       "      <th>Channel Name</th>\n",
       "      <th>Subscribers</th>\n",
       "      <th>Category</th>\n",
       "      <th>Views</th>\n",
       "    </tr>\n",
       "  </thead>\n",
       "  <tbody>\n",
       "    <tr>\n",
       "      <th>0</th>\n",
       "      <td>1</td>\n",
       "      <td>MrBeast</td>\n",
       "      <td>409M</td>\n",
       "      <td>Entertainment</td>\n",
       "      <td>109.84M</td>\n",
       "    </tr>\n",
       "    <tr>\n",
       "      <th>1</th>\n",
       "      <td>2</td>\n",
       "      <td>T-Series</td>\n",
       "      <td>297M</td>\n",
       "      <td>Music</td>\n",
       "      <td>731.63K</td>\n",
       "    </tr>\n",
       "    <tr>\n",
       "      <th>2</th>\n",
       "      <td>3</td>\n",
       "      <td>Cocomelon - Nursery Rhymes</td>\n",
       "      <td>194M</td>\n",
       "      <td>Education</td>\n",
       "      <td>3.63M</td>\n",
       "    </tr>\n",
       "    <tr>\n",
       "      <th>3</th>\n",
       "      <td>4</td>\n",
       "      <td>SET India</td>\n",
       "      <td>184M</td>\n",
       "      <td>Entertainment</td>\n",
       "      <td>18.28K</td>\n",
       "    </tr>\n",
       "    <tr>\n",
       "      <th>4</th>\n",
       "      <td>5</td>\n",
       "      <td>Vlad and Niki</td>\n",
       "      <td>142M</td>\n",
       "      <td>Entertainment</td>\n",
       "      <td>1.85M</td>\n",
       "    </tr>\n",
       "    <tr>\n",
       "      <th>...</th>\n",
       "      <td>...</td>\n",
       "      <td>...</td>\n",
       "      <td>...</td>\n",
       "      <td>...</td>\n",
       "      <td>...</td>\n",
       "    </tr>\n",
       "    <tr>\n",
       "      <th>95</th>\n",
       "      <td>96</td>\n",
       "      <td>PowerKids TV</td>\n",
       "      <td>47.5M</td>\n",
       "      <td>Film &amp; Animation</td>\n",
       "      <td>139.6K</td>\n",
       "    </tr>\n",
       "    <tr>\n",
       "      <th>96</th>\n",
       "      <td>97</td>\n",
       "      <td>Felipe Neto</td>\n",
       "      <td>47.3M</td>\n",
       "      <td>Entertainment</td>\n",
       "      <td>240.92K</td>\n",
       "    </tr>\n",
       "    <tr>\n",
       "      <th>97</th>\n",
       "      <td>98</td>\n",
       "      <td>Speed Records</td>\n",
       "      <td>47.1M</td>\n",
       "      <td>Music</td>\n",
       "      <td>208.62K</td>\n",
       "    </tr>\n",
       "    <tr>\n",
       "      <th>98</th>\n",
       "      <td>99</td>\n",
       "      <td>Alan Walker</td>\n",
       "      <td>47M</td>\n",
       "      <td>Music</td>\n",
       "      <td>229.3K</td>\n",
       "    </tr>\n",
       "    <tr>\n",
       "      <th>99</th>\n",
       "      <td>100</td>\n",
       "      <td>Goldmines Gaane Sune Ansune</td>\n",
       "      <td>47M</td>\n",
       "      <td>Music</td>\n",
       "      <td>42.71K</td>\n",
       "    </tr>\n",
       "  </tbody>\n",
       "</table>\n",
       "<p>100 rows × 5 columns</p>\n",
       "</div>"
      ],
      "text/plain": [
       "   Rank                 Channel Name Subscribers          Category    Views\n",
       "0     1                      MrBeast        409M     Entertainment  109.84M\n",
       "1     2                     T-Series        297M             Music  731.63K\n",
       "2     3   Cocomelon - Nursery Rhymes        194M         Education    3.63M\n",
       "3     4                    SET India        184M     Entertainment   18.28K\n",
       "4     5                Vlad and Niki        142M     Entertainment    1.85M\n",
       "..  ...                          ...         ...               ...      ...\n",
       "95   96                 PowerKids TV       47.5M  Film & Animation   139.6K\n",
       "96   97                  Felipe Neto       47.3M     Entertainment  240.92K\n",
       "97   98                Speed Records       47.1M             Music  208.62K\n",
       "98   99                  Alan Walker         47M             Music   229.3K\n",
       "99  100  Goldmines Gaane Sune Ansune         47M             Music   42.71K\n",
       "\n",
       "[100 rows x 5 columns]"
      ]
     },
     "execution_count": 8,
     "metadata": {},
     "output_type": "execute_result"
    }
   ],
   "source": [
    "df"
   ]
  },
  {
   "cell_type": "code",
   "execution_count": 9,
   "id": "3e0a8900-115f-40c6-8123-68859a9eac30",
   "metadata": {},
   "outputs": [],
   "source": [
    "def convert_to_million(val):\n",
    "    if isinstance(val, str):\n",
    "        val = val.strip().upper()\n",
    "        if val.endswith('M'):\n",
    "            return float(val[:-1])\n",
    "        elif val.endswith('K'):\n",
    "            return float(val[:-1]) / 1000\n",
    "        elif val.endswith('B'):\n",
    "            return float(val[:-1]) * 1000\n",
    "        else:\n",
    "            try:\n",
    "                return float(val)\n",
    "            except:\n",
    "                return None\n",
    "    return None\n",
    "    "
   ]
  },
  {
   "cell_type": "code",
   "execution_count": 12,
   "id": "c2200305-860e-4bd5-914c-bac7b2f3f17d",
   "metadata": {},
   "outputs": [],
   "source": [
    "df['Views'] = df['Views'].apply(convert_to_million)\n",
    "df['Subscribers'] = df['Subscribers'].apply(convert_to_million)"
   ]
  },
  {
   "cell_type": "code",
   "execution_count": 14,
   "id": "1555451c-71ee-497f-9b80-91dd7922c0d5",
   "metadata": {
    "scrolled": true
   },
   "outputs": [
    {
     "data": {
      "text/html": [
       "<div>\n",
       "<style scoped>\n",
       "    .dataframe tbody tr th:only-of-type {\n",
       "        vertical-align: middle;\n",
       "    }\n",
       "\n",
       "    .dataframe tbody tr th {\n",
       "        vertical-align: top;\n",
       "    }\n",
       "\n",
       "    .dataframe thead th {\n",
       "        text-align: right;\n",
       "    }\n",
       "</style>\n",
       "<table border=\"1\" class=\"dataframe\">\n",
       "  <thead>\n",
       "    <tr style=\"text-align: right;\">\n",
       "      <th></th>\n",
       "      <th>Rank</th>\n",
       "      <th>Channel Name</th>\n",
       "      <th>Subscribers</th>\n",
       "      <th>Category</th>\n",
       "      <th>Views</th>\n",
       "    </tr>\n",
       "  </thead>\n",
       "  <tbody>\n",
       "    <tr>\n",
       "      <th>0</th>\n",
       "      <td>1</td>\n",
       "      <td>MrBeast</td>\n",
       "      <td>409.0</td>\n",
       "      <td>Entertainment</td>\n",
       "      <td>109.84000</td>\n",
       "    </tr>\n",
       "    <tr>\n",
       "      <th>1</th>\n",
       "      <td>2</td>\n",
       "      <td>T-Series</td>\n",
       "      <td>297.0</td>\n",
       "      <td>Music</td>\n",
       "      <td>0.73163</td>\n",
       "    </tr>\n",
       "    <tr>\n",
       "      <th>2</th>\n",
       "      <td>3</td>\n",
       "      <td>Cocomelon - Nursery Rhymes</td>\n",
       "      <td>194.0</td>\n",
       "      <td>Education</td>\n",
       "      <td>3.63000</td>\n",
       "    </tr>\n",
       "    <tr>\n",
       "      <th>3</th>\n",
       "      <td>4</td>\n",
       "      <td>SET India</td>\n",
       "      <td>184.0</td>\n",
       "      <td>Entertainment</td>\n",
       "      <td>0.01828</td>\n",
       "    </tr>\n",
       "    <tr>\n",
       "      <th>4</th>\n",
       "      <td>5</td>\n",
       "      <td>Vlad and Niki</td>\n",
       "      <td>142.0</td>\n",
       "      <td>Entertainment</td>\n",
       "      <td>1.85000</td>\n",
       "    </tr>\n",
       "  </tbody>\n",
       "</table>\n",
       "</div>"
      ],
      "text/plain": [
       "  Rank                Channel Name  Subscribers       Category      Views\n",
       "0    1                     MrBeast        409.0  Entertainment  109.84000\n",
       "1    2                    T-Series        297.0          Music    0.73163\n",
       "2    3  Cocomelon - Nursery Rhymes        194.0      Education    3.63000\n",
       "3    4                   SET India        184.0  Entertainment    0.01828\n",
       "4    5               Vlad and Niki        142.0  Entertainment    1.85000"
      ]
     },
     "execution_count": 14,
     "metadata": {},
     "output_type": "execute_result"
    }
   ],
   "source": [
    "df.head()"
   ]
  },
  {
   "cell_type": "code",
   "execution_count": 16,
   "id": "88cef927-8907-4305-8cf0-8256afe2bf49",
   "metadata": {},
   "outputs": [],
   "source": [
    "df.to_csv(\"Top_100_youtube.csv\", index=False)"
   ]
  },
  {
   "cell_type": "code",
   "execution_count": null,
   "id": "3a6fbb36-ec04-4b4e-93dc-f01c30be3cbe",
   "metadata": {},
   "outputs": [],
   "source": []
  }
 ],
 "metadata": {
  "kernelspec": {
   "display_name": "Python [conda env:base] *",
   "language": "python",
   "name": "conda-base-py"
  },
  "language_info": {
   "codemirror_mode": {
    "name": "ipython",
    "version": 3
   },
   "file_extension": ".py",
   "mimetype": "text/x-python",
   "name": "python",
   "nbconvert_exporter": "python",
   "pygments_lexer": "ipython3",
   "version": "3.12.7"
  }
 },
 "nbformat": 4,
 "nbformat_minor": 5
}
